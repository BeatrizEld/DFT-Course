{
 "cells": [
  {
   "cell_type": "markdown",
   "id": "4e26e365",
   "metadata": {},
   "source": [
    "## DFT Course - 2022-23\n",
    "## Beatriz Helena Cogollo-Olivo\n",
    "\n",
    "## Tutorial 02 - The (very) basics of pw.x "
   ]
  },
  {
   "cell_type": "markdown",
   "id": "fed0c902",
   "metadata": {},
   "source": [
    "These examples cover some of the basic features of the PW package: scf, relax and vc-relax. In the first example we will search the lattice parameter of Si by two different approaches; and in the second one, we will compute the equilibrium geometry of a CO molecule."
   ]
  },
  {
   "cell_type": "code",
   "execution_count": null,
   "id": "0852e640",
   "metadata": {},
   "outputs": [],
   "source": [
    "import numpy as np\n",
    "import matplotlib.pyplot as plt"
   ]
  },
  {
   "cell_type": "markdown",
   "id": "8511f797",
   "metadata": {},
   "source": [
    "### Lattice parameter for silicon bulk with scf\n",
    "\n",
    "$celldm(1)$ is the keyword that represents the lattice parameter, alat, (in a.u.) of a crystal structure."
   ]
  },
  {
   "cell_type": "code",
   "execution_count": null,
   "id": "aaafd47f",
   "metadata": {
    "scrolled": false
   },
   "outputs": [],
   "source": [
    "#Let's download the pseudopotential\n",
    "!wget http://pseudopotentials.quantum-espresso.org/upf_files/Si.pz-vbc.UPF"
   ]
  },
  {
   "cell_type": "code",
   "execution_count": null,
   "id": "1041967a",
   "metadata": {},
   "outputs": [],
   "source": [
    "%%writefile Si-alat.sh\n",
    "\n",
    "#!/bin/sh\n",
    "NAME=\"alat\"\n",
    "for ALAT in AA BB CC DD #The ecut values are defined in this list\n",
    "do\n",
    "cat > ${NAME}_${ALAT}.in << EOF\n",
    " &control\n",
    "    calculation = 'scf',\n",
    "    prefix = 'silicon'\n",
    "    outdir = './tmp/'\n",
    "    pseudo_dir = './'\n",
    " /\n",
    " &system\n",
    "    ibrav =  2,\n",
    "    celldm(1) = $ALAT,\n",
    "    nat =  2,\n",
    "    ntyp = 1,\n",
    "    ecutwfc = 40\n",
    " /\n",
    " &electrons\n",
    "    mixing_beta = 0.6\n",
    " /\n",
    "ATOMIC_SPECIES\n",
    " Si 28.086  Si.pz-vbc.UPF\n",
    "ATOMIC_POSITIONS (alat)\n",
    " Si 0.0 0.0 0.0\n",
    " Si 0.25 0.25 0.25\n",
    "K_POINTS (automatic)\n",
    "  6 6 6 1 1 1\n",
    "EOF\n",
    "\n",
    "pw.x < ${NAME}_${ALAT}.in > ${NAME}_${ALAT}.out\n",
    "echo ${NAME}_${ALAT}\n",
    "grep ! ${NAME}_${ALAT}.out\n",
    "\n",
    "done"
   ]
  },
  {
   "cell_type": "code",
   "execution_count": null,
   "id": "9ceeb673",
   "metadata": {},
   "outputs": [],
   "source": [
    "!chmod +x Si-alat.sh\n",
    "!sh Si-alat.sh"
   ]
  },
  {
   "cell_type": "code",
   "execution_count": null,
   "id": "b2a93989",
   "metadata": {},
   "outputs": [],
   "source": [
    "x1 = [] #Include the alat values separated by commas\n",
    "y1 = [] #Include the total energy values separated by commas\n",
    "plt.xlabel('Alat (a.u.)')\n",
    "plt.ylabel('Total energy (Ry)')\n",
    "plt.plot(x1, y1, '-o')\n",
    "plt.show()"
   ]
  },
  {
   "cell_type": "markdown",
   "id": "7dd06b28",
   "metadata": {},
   "source": [
    "#### Question 1\n",
    "What is the value of alat that minimizes the energy?"
   ]
  },
  {
   "cell_type": "markdown",
   "id": "576b859b",
   "metadata": {},
   "source": [
    "### Lattice parameter for silicon bulk with vc-relax\n",
    "\n",
    "We can run a more reliable test, by changing the type of calculation to a variable-cell relaxation that changes the lattice parameter until the lowest energy is found."
   ]
  },
  {
   "cell_type": "code",
   "execution_count": null,
   "id": "a0de2a09",
   "metadata": {},
   "outputs": [],
   "source": [
    "%%writefile Si-vc-relax.in\n",
    "\n",
    " &control\n",
    "    calculation = 'vc-relax',\n",
    "    prefix = 'silicon'\n",
    "    outdir = './tmp/'\n",
    "    pseudo_dir = './'\n",
    " /\n",
    " &system\n",
    "    ibrav =  2,\n",
    "    celldm(1) = AA, #Set an initial alat value (not too) far from equilibrium\n",
    "    nat =  2,\n",
    "    ntyp = 1,\n",
    "    ecutwfc = 40\n",
    " /\n",
    " &electrons\n",
    "    mixing_beta = 0.6\n",
    " /\n",
    " &ions\n",
    "    ion_dynamics = 'bfgs'\n",
    " /\n",
    " &cell\n",
    "    cell_dynamics = 'bfgs'\n",
    " /\n",
    "ATOMIC_SPECIES\n",
    " Si 28.086  Si.pz-vbc.UPF\n",
    "ATOMIC_POSITIONS (alat)\n",
    " Si 0.0 0.0 0.0\n",
    " Si 0.25 0.25 0.25\n",
    "K_POINTS (automatic)\n",
    "  6 6 6 1 1 1"
   ]
  },
  {
   "cell_type": "code",
   "execution_count": null,
   "id": "e8a30297",
   "metadata": {},
   "outputs": [],
   "source": [
    "!pw.x < Si-vc-relax.in > Si-vc-relax.out"
   ]
  },
  {
   "cell_type": "code",
   "execution_count": null,
   "id": "5be99895",
   "metadata": {},
   "outputs": [],
   "source": [
    "#Let's see how the structure changes\n",
    "!xcrysden --pwo Si-vc-relax.out"
   ]
  },
  {
   "cell_type": "code",
   "execution_count": null,
   "id": "bfb48b28",
   "metadata": {},
   "outputs": [],
   "source": [
    "!grep ! Si-vc-relax.out"
   ]
  },
  {
   "cell_type": "markdown",
   "id": "a9d100f7",
   "metadata": {},
   "source": [
    "#### Question 2\n",
    "How many scf steps were required for optimizing the structure? (The last energy value correspond to the final scf calculation at the relaxed structure, so it should not be taken into account)."
   ]
  },
  {
   "cell_type": "code",
   "execution_count": null,
   "id": "0ed3687a",
   "metadata": {},
   "outputs": [],
   "source": [
    "x2 = [] #Include the scf steps separated by commas\n",
    "y2 = [] #Include the total energy values separated by commas\n",
    "plt.xlabel('SCF steps')\n",
    "plt.ylabel('Total energy (Ry)')\n",
    "plt.plot(x2, y2)\n",
    "plt.show()"
   ]
  },
  {
   "cell_type": "code",
   "execution_count": null,
   "id": "3f73e04a",
   "metadata": {
    "scrolled": true
   },
   "outputs": [],
   "source": [
    "new_y2 = [(i+ENERGY) for i in y2] #Sum the lowest energy value\n",
    "plt.xlabel('SCF steps')\n",
    "plt.ylabel('Total energy difference (meV/atom)')\n",
    "plt.ylim(0, LIM) #The y-axis limits can be changed here\n",
    "plt.plot(x2, new_y2)\n",
    "plt.grid()\n",
    "plt.show()"
   ]
  },
  {
   "cell_type": "markdown",
   "id": "7d4ada5a",
   "metadata": {},
   "source": [
    "#### Question 3\n",
    "What is the energy difference between the last two scf steps? Is it in agreement with the value reported in the output file?"
   ]
  },
  {
   "cell_type": "code",
   "execution_count": null,
   "id": "e61d3e9d",
   "metadata": {},
   "outputs": [],
   "source": [
    "!grep \"Begin\" -A 15 Si-vc-relax.out"
   ]
  },
  {
   "cell_type": "markdown",
   "id": "9c62b99f",
   "metadata": {},
   "source": [
    "#### Question 4\n",
    "For ibrav=2, the cell is defined as follows:\n",
    "\n",
    "v1 = (a/2)(-1,0,1),  v2 = (a/2)(0,1,1), v3 = (a/2)(-1,1,0)\n",
    "\n",
    "What is the optimized alat value for Si? Is it consistent with the first part of the exercise?"
   ]
  },
  {
   "cell_type": "markdown",
   "id": "ebaabb27",
   "metadata": {},
   "source": [
    "### Geometry relaxation for CO molecule"
   ]
  },
  {
   "cell_type": "code",
   "execution_count": null,
   "id": "aa06437a",
   "metadata": {},
   "outputs": [],
   "source": [
    "#Let's download the pseudopotentials\n",
    "!wget https://pseudopotentials.quantum-espresso.org/upf_files/C.pz-rrkjus.UPF\n",
    "!wget https://pseudopotentials.quantum-espresso.org/upf_files/O.pz-rrkjus.UPF"
   ]
  },
  {
   "cell_type": "code",
   "execution_count": null,
   "id": "cd5bdebb",
   "metadata": {},
   "outputs": [],
   "source": [
    "%%writefile CO-relax.in\n",
    "\n",
    " &control\n",
    "    calculation = 'relax',\n",
    "    prefix = 'CO'\n",
    "    outdir = './tmp/'\n",
    "    pseudo_dir = './'\n",
    " /\n",
    " &system\n",
    "    ibrav =  0,\n",
    "    nat =  2,\n",
    "    ntyp = 2,\n",
    "    ecutwfc = 40,\n",
    "    ecutrho = 400\n",
    " /\n",
    " &electrons\n",
    "    conv_thr    = 1.D-7,\n",
    "    mixing_beta = 0.7\n",
    " /\n",
    " &ions\n",
    "    ion_dynamics = 'bfgs'\n",
    " /\n",
    "CELL_PARAMETERS bohr\n",
    "12.0  0.0  0.0\n",
    " 0.0 12.0  0.0\n",
    " 0.0  0.0 12.0\n",
    "ATOMIC_SPECIES\n",
    "O  1.00  O.pz-rrkjus.UPF\n",
    "C  1.00  C.pz-rrkjus.UPF\n",
    "ATOMIC_POSITIONS {bohr}\n",
    "C  2.256  0.0  0.0\n",
    "O  0.000  0.0  0.0  0 0 0\n",
    "K_POINTS {Gamma}"
   ]
  },
  {
   "cell_type": "markdown",
   "id": "ed0f174a",
   "metadata": {},
   "source": [
    "#### Question 5\n",
    "What is the CO bond length before the relaxation?"
   ]
  },
  {
   "cell_type": "code",
   "execution_count": null,
   "id": "fb76a46f",
   "metadata": {},
   "outputs": [],
   "source": [
    "#Let's see how the molecule looks before the relaxation\n",
    "!xcrysden --pwi CO-relax.in"
   ]
  },
  {
   "cell_type": "code",
   "execution_count": null,
   "id": "ae6dee74",
   "metadata": {},
   "outputs": [],
   "source": [
    "!pw.x < CO-relax.in > CO-relax.out"
   ]
  },
  {
   "cell_type": "code",
   "execution_count": null,
   "id": "119df850",
   "metadata": {},
   "outputs": [],
   "source": [
    "#Let's see how the molecule changes after the relaxation\n",
    "!xcrysden --pwo CO-relax.out"
   ]
  },
  {
   "cell_type": "markdown",
   "id": "949e8f62",
   "metadata": {},
   "source": [
    "#### Question 6\n",
    "The experimental value of the CO bond length is 0.112830 nm. Is this value consistent with the bond length obtained after the relaxation?"
   ]
  }
 ],
 "metadata": {
  "kernelspec": {
   "display_name": "Python 3 (ipykernel)",
   "language": "python",
   "name": "python3"
  },
  "language_info": {
   "codemirror_mode": {
    "name": "ipython",
    "version": 3
   },
   "file_extension": ".py",
   "mimetype": "text/x-python",
   "name": "python",
   "nbconvert_exporter": "python",
   "pygments_lexer": "ipython3",
   "version": "3.9.7"
  }
 },
 "nbformat": 4,
 "nbformat_minor": 5
}
