{
 "cells": [
  {
   "cell_type": "markdown",
   "id": "4e26e365",
   "metadata": {},
   "source": [
    "## DFT Course - 2022-23\n",
    "## Beatriz Helena Cogollo-Olivo\n",
    "\n",
    "## Tutorial 04 - Vibrations in solids"
   ]
  },
  {
   "cell_type": "markdown",
   "id": "fed0c902",
   "metadata": {},
   "source": [
    "This example shows how to calculate vibrational properties for AlAs in zincblende structure."
   ]
  },
  {
   "cell_type": "code",
   "execution_count": null,
   "id": "0852e640",
   "metadata": {},
   "outputs": [],
   "source": [
    "import numpy as np\n",
    "import matplotlib.pyplot as plt"
   ]
  },
  {
   "cell_type": "markdown",
   "id": "8511f797",
   "metadata": {},
   "source": [
    "### Initial calculation\n",
    "\n",
    "The first step is to perform a SCF calculation to obtain the wavefunctions that will be used in subsequent calculations."
   ]
  },
  {
   "cell_type": "code",
   "execution_count": null,
   "id": "aaafd47f",
   "metadata": {
    "scrolled": false
   },
   "outputs": [],
   "source": [
    "#Let's download the pseudopotentials\n",
    "!wget http://pseudopotentials.quantum-espresso.org/upf_files/As.pz-n-rrkjus_psl.0.2.UPF\n",
    "!wget http://pseudopotentials.quantum-espresso.org/upf_files/Al.pz-n-rrkjus_psl.0.1.UPF "
   ]
  },
  {
   "cell_type": "code",
   "execution_count": null,
   "id": "1041967a",
   "metadata": {},
   "outputs": [],
   "source": [
    "%%writefile AlAs-SCF.in\n",
    "\n",
    "&control\n",
    "    calculation = 'scf',\n",
    "    prefix = 'AlAs',\n",
    "    wf_collect = .true. ,\n",
    "    outdir = './tmp/',\n",
    "    pseudo_dir = './',\n",
    " /\n",
    " &system\n",
    "    ibrav =  2,\n",
    "    celldm(1) = 10.50,\n",
    "    nat =  2,\n",
    "    ntyp = 2,\n",
    "    ecutwfc = 40\n",
    " /\n",
    " &electrons\n",
    "    mixing_beta = 0.6\n",
    " /\n",
    "ATOMIC_SPECIES\n",
    " Al  26.98  Al.pz-n-rrkjus_psl.0.1.UPF\n",
    " As  74.92  As.pz-n-rrkjus_psl.0.2.UPF\n",
    "ATOMIC_POSITIONS (alat)\n",
    " Al 0.00 0.00 0.00 \n",
    " As 0.25 0.25 0.25 \n",
    "K_POINTS (automatic)\n",
    " 4 4 4 0 0 0"
   ]
  },
  {
   "cell_type": "code",
   "execution_count": null,
   "id": "9ceeb673",
   "metadata": {},
   "outputs": [],
   "source": [
    "!pw.x < AlAs-SCF.in > AlAs-SCF.out"
   ]
  },
  {
   "cell_type": "markdown",
   "id": "c66fbc1f",
   "metadata": {},
   "source": [
    "### Phonon calculation\n",
    "\n",
    "Once we finished the SCF calculation, we can proceed with the phonon calculation. This calculation may take several minutes."
   ]
  },
  {
   "cell_type": "code",
   "execution_count": null,
   "id": "fd1696bf",
   "metadata": {},
   "outputs": [],
   "source": [
    "%%writefile AlAs-PHONON.in\n",
    "\n",
    "Phonons of AlAs\n",
    " &inputph\n",
    "  tr2_ph=1.0d-12,\n",
    "  prefix='AlAs',\n",
    "  ldisp=.true.,\n",
    "  nq1=4, \n",
    "  nq2=4, \n",
    "  nq3=4\n",
    "  amass(1)=26.98,  !Mass of first atom\n",
    "  amass(2)=74.92,  !Mass of second atom\n",
    "  outdir='./tmp/',\n",
    "  fildyn='AlAs-DynamicalMatrix.dyn',\n",
    " /"
   ]
  },
  {
   "cell_type": "code",
   "execution_count": null,
   "id": "af96eb9e",
   "metadata": {},
   "outputs": [],
   "source": [
    "!ph.x < AlAs-PHONON.in > AlAs-PHONON.out"
   ]
  },
  {
   "cell_type": "code",
   "execution_count": null,
   "id": "36bdc01a",
   "metadata": {},
   "outputs": [],
   "source": [
    "!grep -A N \"Dynamical matrices\" AlAs-PHONON.out  #Adjust N until all points are displayed"
   ]
  },
  {
   "cell_type": "code",
   "execution_count": null,
   "id": "4fe698f4",
   "metadata": {},
   "outputs": [],
   "source": [
    "!cat AlAs-DynamicalMatrix.dyn0"
   ]
  },
  {
   "cell_type": "markdown",
   "id": "0c9b13d8",
   "metadata": {},
   "source": [
    "#### Question 1 \n",
    "How many irreducible q points are calculated?\n",
    "\n",
    "#### Question 2\n",
    "Are the reported in the Phonon output file consistent with the Dynamical matrix file?"
   ]
  },
  {
   "cell_type": "markdown",
   "id": "6cd66695",
   "metadata": {},
   "source": [
    "### IFC calculation\n",
    "We can calculate the interatomic force constants (IFC) in real space by Fourier-transforming the dynamical matrices."
   ]
  },
  {
   "cell_type": "code",
   "execution_count": null,
   "id": "3233b783",
   "metadata": {},
   "outputs": [],
   "source": [
    "%%writefile AlAs-Q2R.in\n",
    "&input\n",
    "   fildyn = 'AlAs-DynamicalMatrix.dyn', \n",
    "   zasr = 'simple', \n",
    "   flfrc = 'AlAs-Forces.fc'\n",
    " /\n",
    "EOF"
   ]
  },
  {
   "cell_type": "code",
   "execution_count": null,
   "id": "5aeac02a",
   "metadata": {},
   "outputs": [],
   "source": [
    "!q2r.x < AlAs-Q2R.in > AlAs-Q2R.out"
   ]
  },
  {
   "cell_type": "markdown",
   "id": "99eb1b7c",
   "metadata": {},
   "source": [
    "### Phonon dispersion calculation"
   ]
  },
  {
   "cell_type": "code",
   "execution_count": null,
   "id": "8e755779",
   "metadata": {},
   "outputs": [],
   "source": [
    "%%writefile AlAs-PHBands.in\n",
    "&input\n",
    "   asr = 'crystal' ,\n",
    "   dos = .false. ,\n",
    "   amass(1) = 26.98,\n",
    "   amass(2) = 74.92,\n",
    "   flfrc = 'AlAs-Forces.fc' ,\n",
    "   flfrq = 'AlAs-Frequencies.freq' ,\n",
    "   q_in_band_form = .true. ,\n",
    "   q_in_cryst_coord = .true.\n",
    "/\n",
    "7\n",
    "0.0000000000    0.0000000000    0.0000000000 50  !G\n",
    "0.5000000000    0.0000000000    0.5000000000 50  !X\n",
    "0.6250000000    0.2500000000    0.6250000000 50  !U\n",
    "0.0000000000    0.0000000000    0.0000000000 50  !G\n",
    "0.5000000000    0.5000000000    0.5000000000 50  !L\n",
    "0.5000000000    0.2500000000    0.7500000000 50  !W\n",
    "0.5000000000    0.0000000000    0.5000000000 1   !X"
   ]
  },
  {
   "cell_type": "code",
   "execution_count": null,
   "id": "fa13929a",
   "metadata": {},
   "outputs": [],
   "source": [
    "!matdyn.x < AlAs-PHBands.in > AlAs-PHBands.out "
   ]
  },
  {
   "cell_type": "code",
   "execution_count": null,
   "id": "ebe1eb88",
   "metadata": {},
   "outputs": [],
   "source": [
    "!sed -n Np AlAs-Frequencies.freq.gp #Set N for each high-symmetry point according to the spacing defined above"
   ]
  },
  {
   "cell_type": "code",
   "execution_count": null,
   "id": "cbdfcc4f",
   "metadata": {},
   "outputs": [],
   "source": [
    "# load data\n",
    "data = np.loadtxt('AlAs-Frequencies.freq.gp')\n",
    "n_row, n_col = data.shape\n",
    "\n",
    "k=data[:,0]\n",
    "\n",
    "for band in range(1, n_col):\n",
    "    plt.plot(k, data[:, band], linewidth=1, alpha=0.5, color='k')\n",
    "plt.xlim(min(k), max(k))\n",
    "\n",
    "# High symmetry k-points (check bands_pp.out)\n",
    "plt.axvline(HIGH-SYMMETRY, linewidth=0.75, color='k', alpha=0.5) #Repeat for each high-symmetry point reported\n",
    "\n",
    "# text labels\n",
    "#List the high-symmetry points reported in the output file\n",
    "plt.xticks(ticks= [HIGH-SYMMETRY,...], \\\n",
    "           labels=['HIGH-SYMMETRY',...])                #List the names of the high-symmetry points    \n",
    "plt.ylabel(\"Frequency (cm-1)\")\n",
    "plt.show()"
   ]
  },
  {
   "cell_type": "markdown",
   "id": "c480f959",
   "metadata": {},
   "source": [
    "#### Question 3\n",
    "Is the system dynamically stable?"
   ]
  },
  {
   "cell_type": "markdown",
   "id": "c83eda31",
   "metadata": {},
   "source": [
    "### Phonon DOS calculation"
   ]
  },
  {
   "cell_type": "code",
   "execution_count": null,
   "id": "2c38b4fe",
   "metadata": {},
   "outputs": [],
   "source": [
    "%%writefile AlAs-PHDOS.in\n",
    "&input\n",
    "   asr = 'crystal' ,\n",
    "   dos = .true. ,\n",
    "   amass(1) = 26.98,\n",
    "   amass(2) = 74.92,\n",
    "   flfrc = 'AlAs-Forces.fc' ,\n",
    "   fldos = 'AlAs-PHDOS.dat' ,\n",
    "   nk1 = Q , !Same as q point grid\n",
    "   nk2 = Q ,\n",
    "   nk3 = Q\n",
    "/"
   ]
  },
  {
   "cell_type": "code",
   "execution_count": null,
   "id": "5c3d84f6",
   "metadata": {},
   "outputs": [],
   "source": [
    "!matdyn.x < AlAs-PHDOS.in > AlAs-PHDOS.out"
   ]
  },
  {
   "cell_type": "code",
   "execution_count": null,
   "id": "4e06c04d",
   "metadata": {},
   "outputs": [],
   "source": [
    "# load data\n",
    "frequency, phdos_tot, phdos_atom1, phdos_atom2 = np.loadtxt('AlAs-PHDOS.dat', unpack=True)\n",
    "\n",
    "# make plot\n",
    "plt.plot(frequency, phdos_atom1, linewidth=0.75, color='#006699', label='Al PhDOS')\n",
    "plt.plot(frequency, phdos_atom2, linewidth=0.75, color='r', label='As PhDOS')\n",
    "plt.plot(frequency, phdos_tot, linewidth=0.75, color='k', label='Total')\n",
    "plt.yticks([])\n",
    "plt.xlabel('Frequency (cm-1)')\n",
    "plt.ylabel('Phonon DOS')\n",
    "plt.show()"
   ]
  },
  {
   "cell_type": "markdown",
   "id": "fd5e218a",
   "metadata": {},
   "source": [
    "#### Question 4\n",
    "Is this graph consistent with the phonon dispersion?"
   ]
  }
 ],
 "metadata": {
  "kernelspec": {
   "display_name": "Python 3 (ipykernel)",
   "language": "python",
   "name": "python3"
  },
  "language_info": {
   "codemirror_mode": {
    "name": "ipython",
    "version": 3
   },
   "file_extension": ".py",
   "mimetype": "text/x-python",
   "name": "python",
   "nbconvert_exporter": "python",
   "pygments_lexer": "ipython3",
   "version": "3.9.7"
  }
 },
 "nbformat": 4,
 "nbformat_minor": 5
}
