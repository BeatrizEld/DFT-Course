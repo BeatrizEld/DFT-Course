{
 "cells": [
  {
   "cell_type": "markdown",
   "id": "4e26e365",
   "metadata": {},
   "source": [
    "## DFT Course - 2022-23\n",
    "## Beatriz Helena Cogollo-Olivo\n",
    "\n",
    "## Tutorial 03 - Electronic structure in action"
   ]
  },
  {
   "cell_type": "markdown",
   "id": "fed0c902",
   "metadata": {},
   "source": [
    "This example illustrates the use of pw.x as a starting point to calculate material properties such as band structure and the electronic density of states for silicon."
   ]
  },
  {
   "cell_type": "code",
   "execution_count": null,
   "id": "0852e640",
   "metadata": {},
   "outputs": [],
   "source": [
    "import numpy as np\n",
    "import matplotlib.pyplot as plt"
   ]
  },
  {
   "cell_type": "markdown",
   "id": "8511f797",
   "metadata": {},
   "source": [
    "### Initial calculations\n",
    "\n",
    "The first step is to perform a SCF calculation to obtain the wavefunctions that will be used in subsequent calculations."
   ]
  },
  {
   "cell_type": "code",
   "execution_count": null,
   "id": "aaafd47f",
   "metadata": {
    "scrolled": false
   },
   "outputs": [],
   "source": [
    "#Let's download the pseudopotential\n",
    "!wget http://pseudopotentials.quantum-espresso.org/upf_files/Si.pz-vbc.UPF"
   ]
  },
  {
   "cell_type": "code",
   "execution_count": null,
   "id": "1041967a",
   "metadata": {},
   "outputs": [],
   "source": [
    "%%writefile Si-SCF.in\n",
    "\n",
    "&control\n",
    "    calculation = 'scf',\n",
    "    prefix = 'silicon',\n",
    "    wf_collect = .true. ,\n",
    "    outdir = './tmp/',\n",
    "    pseudo_dir = './',\n",
    " /\n",
    " &system\n",
    "    ibrav =  2,\n",
    "    celldm(1) = 10.2076,\n",
    "    nat =  2,\n",
    "    ntyp = 1,\n",
    "    ecutwfc = 40,\n",
    "    ecutrho = 320,\n",
    "    nbnd = 12,\n",
    " /\n",
    " &electrons\n",
    "    mixing_beta = 0.6\n",
    " /\n",
    "ATOMIC_SPECIES\n",
    " Si 28.086  Si.pz-vbc.UPF\n",
    "ATOMIC_POSITIONS (alat)\n",
    " Si 0.0 0.0 0.0\n",
    " Si 0.25 0.25 0.25\n",
    "K_POINTS (automatic)\n",
    "  6 6 6 1 1 1"
   ]
  },
  {
   "cell_type": "code",
   "execution_count": null,
   "id": "9ceeb673",
   "metadata": {},
   "outputs": [],
   "source": [
    "!pw.x < Si-SCF.in > Si-SCF.out"
   ]
  },
  {
   "cell_type": "code",
   "execution_count": null,
   "id": "fd1696bf",
   "metadata": {},
   "outputs": [],
   "source": [
    "!grep \"highest occupied\" Si-SCF.out"
   ]
  },
  {
   "cell_type": "markdown",
   "id": "0c9b13d8",
   "metadata": {},
   "source": [
    "#### Question 1 \n",
    "What is the value of the bandgap, if any?"
   ]
  },
  {
   "cell_type": "markdown",
   "id": "c66fbc1f",
   "metadata": {},
   "source": [
    "### Bands calculation\n",
    "\n",
    "Once we finished the initial calculations, we can proceed with the density of states (DOS) calculation."
   ]
  },
  {
   "cell_type": "code",
   "execution_count": null,
   "id": "3233b783",
   "metadata": {},
   "outputs": [],
   "source": [
    "%%writefile Si-Pre-BANDS.in\n",
    "\n",
    "&control\n",
    "    calculation = 'bands',\n",
    "    prefix = 'silicon',\n",
    "    wf_collect = .true. ,\n",
    "    outdir = './tmp/',\n",
    "    pseudo_dir = './',\n",
    " /\n",
    " &system\n",
    "    ibrav =  2,\n",
    "    celldm(1) = 10.2076,\n",
    "    nat =  2,\n",
    "    ntyp = 1,\n",
    "    ecutwfc = 40,\n",
    "    ecutrho = 320,\n",
    "    nbnd = 12,\n",
    " /\n",
    " &electrons\n",
    "    mixing_beta = 0.6\n",
    " /\n",
    "ATOMIC_SPECIES\n",
    " Si 28.086  Si.pz-vbc.UPF\n",
    "ATOMIC_POSITIONS (alat)\n",
    " Si 0.0 0.0 0.0\n",
    " Si 0.25 0.25 0.25\n",
    "K_POINTS {crystal_b}\n",
    "5\n",
    "  0.0000 0.5000 0.0000 20  !L\n",
    "  0.0000 0.0000 0.0000 30  !G\n",
    "  -0.500 0.0000 -0.500 10  !X\n",
    "  -0.375 0.2500 -0.375 30  !U\n",
    "  0.0000 0.0000 0.0000 20  !G"
   ]
  },
  {
   "cell_type": "code",
   "execution_count": null,
   "id": "5aeac02a",
   "metadata": {},
   "outputs": [],
   "source": [
    "!pw.x < Si-Pre-BANDS.in > Si-Pre-BANDS.out"
   ]
  },
  {
   "cell_type": "code",
   "execution_count": null,
   "id": "4bd3381d",
   "metadata": {},
   "outputs": [],
   "source": [
    "%%writefile Si-BANDS.in\n",
    "\n",
    "&BANDS\n",
    "  prefix = 'silicon'\n",
    "  outdir = './tmp/'\n",
    "  filband = 'si_bands.dat'\n",
    "/"
   ]
  },
  {
   "cell_type": "code",
   "execution_count": null,
   "id": "109a0eff",
   "metadata": {},
   "outputs": [],
   "source": [
    "!bands.x < Si-BANDS.in > Si-BANDS.out"
   ]
  },
  {
   "cell_type": "markdown",
   "id": "8f9cc81c",
   "metadata": {},
   "source": [
    "The following file will define the parameters for the electronic bands:"
   ]
  },
  {
   "cell_type": "code",
   "execution_count": null,
   "id": "fbb350af",
   "metadata": {},
   "outputs": [],
   "source": [
    "%%writefile Si-PLOTBAND.in\n",
    "\n",
    "si_bands.dat\n",
    "-6, 16                 !Y limits\n",
    "si_bands.gnuplot\n",
    "si_bands.ps\n",
    "FERMI                  !Highest occupied value\n",
    "4, 0                   !Delta E, tick for reference (Fermi) level"
   ]
  },
  {
   "cell_type": "code",
   "execution_count": null,
   "id": "e15e2c15",
   "metadata": {},
   "outputs": [],
   "source": [
    "!plotband.x < Si-PLOTBAND.in > Si-PLOTBAND.out"
   ]
  },
  {
   "cell_type": "code",
   "execution_count": null,
   "id": "6f12af21",
   "metadata": {},
   "outputs": [],
   "source": [
    "!evince si_bands.ps"
   ]
  },
  {
   "cell_type": "code",
   "execution_count": null,
   "id": "0ab1783a",
   "metadata": {},
   "outputs": [],
   "source": [
    "!grep \"high-symmetry point\" Si-PLOTBAND.out"
   ]
  },
  {
   "cell_type": "code",
   "execution_count": null,
   "id": "b517cfb1",
   "metadata": {},
   "outputs": [],
   "source": [
    "data = np.loadtxt('si_bands.dat.gnu')\n",
    "\n",
    "k = np.unique(data[:, 0])\n",
    "bands = np.reshape(data[:, 1], (-1, len(k)))\n",
    "\n",
    "for band in range(len(bands)):\n",
    "    plt.plot(k, bands[band, :], linewidth=1, alpha=0.5, color='k')\n",
    "plt.xlim(min(k), max(k))\n",
    "\n",
    "# Fermi energy\n",
    "plt.axhline(FERMI, linestyle=(0, (5, 5)), linewidth=0.75, color='k', alpha=0.5) #Set the reference (Fermi) leve\n",
    "# High symmetry k-points (check bands_pp.out)\n",
    "plt.axvline(HIGH-SYMMETRY-POINT, linewidth=0.75, color='k', alpha=0.5) #Repeat for each high-symmetry point reported\n",
    "# text labels\n",
    "#List the high-symmetry points reported in the output file\n",
    "plt.xticks(ticks= [HIGH-SYMMETRY-POINT,...], \\\n",
    "           labels=['POINT', ...])                #List the names of the high-symmetry points    \n",
    "plt.ylabel(\"Energy (eV)\")\n",
    "plt.text(2.3, 5.6, 'Fermi energy')\n",
    "plt.show()"
   ]
  },
  {
   "cell_type": "markdown",
   "id": "3b8830cc",
   "metadata": {},
   "source": [
    "#### Question 2\n",
    "Is the system a metal, a semiconductor, or an insulator? Why?"
   ]
  },
  {
   "cell_type": "markdown",
   "id": "edd39a05",
   "metadata": {},
   "source": [
    "### DOS calculation\n",
    "\n",
    "Before performing the DOS calculation, we need a NSCF calculation (after the SCF calculation). For the NSCF it is necesary a denser K-point grid. The card $occupations$ is included with the option $tetrahedra$, which is appropriate for DOS calculation. In addition, we need to specify $nosym = .TRUE.$ to avoid generation of additional k-points in low symmetry cases. Finally, $outdir$ and $prefix$ must be same as in the SCF step."
   ]
  },
  {
   "cell_type": "code",
   "execution_count": null,
   "id": "80fb4555",
   "metadata": {},
   "outputs": [],
   "source": [
    "%%writefile Si-NSCF.in\n",
    "\n",
    "&control\n",
    "    calculation = 'nscf',\n",
    "    prefix = 'silicon',\n",
    "    outdir = './tmp/',\n",
    "    pseudo_dir = './',\n",
    " /\n",
    " &system\n",
    "    ibrav =  2,\n",
    "    celldm(1) = 10.2076,\n",
    "    nat =  2,\n",
    "    ntyp = 1,\n",
    "    ecutwfc = 40,\n",
    "    occupations = 'tetrahedra',\n",
    "    nosym = .true.\n",
    " /\n",
    " &electrons\n",
    "    mixing_beta = 0.6\n",
    " /\n",
    "ATOMIC_SPECIES\n",
    " Si 28.086  Si.pz-vbc.UPF\n",
    "ATOMIC_POSITIONS (alat)\n",
    " Si 0.0 0.0 0.0\n",
    " Si 0.25 0.25 0.25\n",
    "K_POINTS (automatic)\n",
    "  12 12 12 1 1 1"
   ]
  },
  {
   "cell_type": "code",
   "execution_count": null,
   "id": "f906eb5e",
   "metadata": {},
   "outputs": [],
   "source": [
    "!pw.x < Si-NSCF.in > Si-NSCF.out"
   ]
  },
  {
   "cell_type": "code",
   "execution_count": null,
   "id": "1def0acf",
   "metadata": {},
   "outputs": [],
   "source": [
    "!grep \"Fermi\" Si-NSCF.out"
   ]
  },
  {
   "cell_type": "markdown",
   "id": "dd601644",
   "metadata": {},
   "source": [
    "#### Question 3\n",
    "What is the value of the Fermi level?"
   ]
  },
  {
   "cell_type": "code",
   "execution_count": null,
   "id": "1f0ab6e7",
   "metadata": {},
   "outputs": [],
   "source": [
    "%%writefile Si-DOS.in\n",
    "\n",
    "&DOS\n",
    "  prefix='silicon',\n",
    "  outdir='./tmp/',\n",
    "  fildos='si_dos.dat',\n",
    "  emin=-9.0,  !Energy lower limit\n",
    "  emax=16.0   !Energy upper limit\n",
    "/"
   ]
  },
  {
   "cell_type": "code",
   "execution_count": null,
   "id": "c9bdbd28",
   "metadata": {},
   "outputs": [],
   "source": [
    "!dos.x < Si-DOS.in > Si-DOS.out"
   ]
  },
  {
   "cell_type": "code",
   "execution_count": null,
   "id": "1f64b9ba",
   "metadata": {},
   "outputs": [],
   "source": [
    "# load data\n",
    "energy, dos, idos = np.loadtxt('si_dos.dat', unpack=True)\n",
    "\n",
    "# make plot\n",
    "plt.plot(energy, dos, linewidth=0.75, color='red')\n",
    "plt.yticks([])\n",
    "plt.xlabel('Energy (eV)')\n",
    "plt.ylabel('DOS')\n",
    "plt.axvline(x=FERMI, linewidth=0.5, color='k', linestyle=(0, (8, 10)))  #Set the Fermi level\n",
    "plt.xlim(LOWER, UPPER)  #Set the X limits\n",
    "plt.ylim(0, )\n",
    "plt.fill_between(energy, 0, dos, where=(energy < FERMI), facecolor='red', alpha=0.25)\n",
    "plt.text(6, 1.5, 'Fermi energy', rotation=90)\n",
    "plt.show()"
   ]
  },
  {
   "cell_type": "markdown",
   "id": "fd5e218a",
   "metadata": {},
   "source": [
    "#### Question 4\n",
    "Is this graph consistent with the plotted bands?"
   ]
  },
  {
   "cell_type": "markdown",
   "id": "fcd89db3",
   "metadata": {},
   "source": [
    "### PDOS calculation\n",
    "\n",
    "In addition to the standard DOS calculation, we can determine the orbital contribution from each individual atoms."
   ]
  },
  {
   "cell_type": "code",
   "execution_count": null,
   "id": "00896147",
   "metadata": {},
   "outputs": [],
   "source": [
    "%%writefile Si-PDOS.in\n",
    "\n",
    "&PROJWFC\n",
    "  prefix= 'silicon',\n",
    "  outdir= './tmp/',\n",
    "  filpdos= 'si_pdos.dat'\n",
    "/"
   ]
  },
  {
   "cell_type": "code",
   "execution_count": null,
   "id": "0e8467f7",
   "metadata": {},
   "outputs": [],
   "source": [
    "!projwfc.x < Si-PDOS.in > Si-PDOS.out"
   ]
  },
  {
   "cell_type": "code",
   "execution_count": null,
   "id": "8f05279f",
   "metadata": {},
   "outputs": [],
   "source": [
    "def data_loader(fname):\n",
    "    fid = open(fname, \"r\")\n",
    "    data = fid.readlines()\n",
    "    fid.close()\n",
    "\n",
    "    energy = []\n",
    "    pdos = []\n",
    "\n",
    "    for row in range(len(data)):\n",
    "        data_row = data[row]\n",
    "        if (data_row[0][0] != '#'):\n",
    "            data_row = data_row[:-1].split('  ')\n",
    "            energy.append(float(data_row[1]))\n",
    "            pdos.append(float(data_row[3]))\n",
    "\n",
    "    energy = np.asarray(energy)\n",
    "    pdos = np.asarray(pdos)\n",
    "\n",
    "    return energy, pdos\n",
    "\n",
    "energy, pdos_s1 = data_loader('si_pdos.dat.pdos_atm#1(Si)_wfc#1(s)')\n",
    "_, pdos_s2 = data_loader('si_pdos.dat.pdos_atm#2(Si)_wfc#1(s)')\n",
    "_, pdos_p1 = data_loader('si_pdos.dat.pdos_atm#1(Si)_wfc#2(p)')\n",
    "_, pdos_p2 = data_loader('si_pdos.dat.pdos_atm#2(Si)_wfc#2(p)')\n",
    "_, pdos_tot = data_loader('si_pdos.dat.pdos_tot')\n",
    "\n",
    "# make plots\n",
    "plt.figure(figsize = (8, 4))\n",
    "plt.plot(energy, pdos_s1+pdos_s2, linewidth=0.75, color='#006699', label='s-orbital')\n",
    "plt.plot(energy, pdos_p1+pdos_p2, linewidth=0.75, color='r', label='p-orbital')\n",
    "plt.plot(energy, pdos_tot, linewidth=0.75, color='k', label='total')\n",
    "plt.yticks([])\n",
    "plt.xlabel('Energy (eV)')\n",
    "plt.ylabel('DOS')\n",
    "plt.axvline(x= FERMI, linewidth=0.5, color='k', linestyle=(0, (8, 10))) #Set the Fermi level\n",
    "plt.xlim(LOWER, UPPER)   #Set the X limits\n",
    "plt.ylim(0, )\n",
    "plt.fill_between(energy, 0, pdos_s1+pdos_s2, where=(energy < FERMI), facecolor='#006699', alpha=0.25) #Set the Fermi level\n",
    "plt.fill_between(energy, 0, pdos_p1+pdos_p2, where=(energy < FERMI), facecolor='r', alpha=0.25) #Set the Fermi level\n",
    "plt.fill_between(energy, 0, pdos_tot, where=(energy < FERMI), facecolor='k', alpha=0.25) #Set the Fermi level\n",
    "plt.text(6, 1.3, 'Fermi energy', rotation=90)\n",
    "plt.legend(frameon=False)\n",
    "plt.show()"
   ]
  },
  {
   "cell_type": "markdown",
   "id": "e48304e4",
   "metadata": {},
   "source": [
    "#### Question 5\n",
    "What can you interpretate from the graph?"
   ]
  }
 ],
 "metadata": {
  "kernelspec": {
   "display_name": "Python 3 (ipykernel)",
   "language": "python",
   "name": "python3"
  },
  "language_info": {
   "codemirror_mode": {
    "name": "ipython",
    "version": 3
   },
   "file_extension": ".py",
   "mimetype": "text/x-python",
   "name": "python",
   "nbconvert_exporter": "python",
   "pygments_lexer": "ipython3",
   "version": "3.9.7"
  }
 },
 "nbformat": 4,
 "nbformat_minor": 5
}
