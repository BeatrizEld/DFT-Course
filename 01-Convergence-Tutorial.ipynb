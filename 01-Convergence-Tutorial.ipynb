{
 "cells": [
  {
   "cell_type": "markdown",
   "id": "4e26e365",
   "metadata": {},
   "source": [
    "# DFT Course - 2022-23\n",
    "## Beatriz Helena Cogollo-Olivo\n",
    "\n",
    "## Tutorial 01 - Convergence testing"
   ]
  },
  {
   "cell_type": "markdown",
   "id": "fed0c902",
   "metadata": {},
   "source": [
    "In order to use our computer efficiently, it is crucial to find a setting of parameters that balances the accuracy and reliability of the simulation, and the computational resources. \n",
    "\n",
    "There are many convergence test methods. Here we will exlplore the energy convergence against the cutoff energy, the k-points, and the smearing."
   ]
  },
  {
   "cell_type": "code",
   "execution_count": null,
   "id": "0852e640",
   "metadata": {},
   "outputs": [],
   "source": [
    "import numpy as np\n",
    "import matplotlib.pyplot as plt"
   ]
  },
  {
   "cell_type": "markdown",
   "id": "8511f797",
   "metadata": {},
   "source": [
    "### Convergence with cutoff energy for silicon bulk\n",
    "\n",
    "$ecut$ is the keyword to set the number of plane waves used to calculate the DFT. If the value is high for the calculation of plane waves, the accuracy of the calculation is improved, but it takes a longer time to calculate it."
   ]
  },
  {
   "cell_type": "code",
   "execution_count": null,
   "id": "aaafd47f",
   "metadata": {
    "scrolled": false
   },
   "outputs": [],
   "source": [
    "#Let's download the pseudopotential\n",
    "!wget http://pseudopotentials.quantum-espresso.org/upf_files/Si.pz-vbc.UPF"
   ]
  },
  {
   "cell_type": "code",
   "execution_count": null,
   "id": "1041967a",
   "metadata": {},
   "outputs": [],
   "source": [
    "%%writefile ecut-convergence.sh\n",
    "\n",
    "#!/bin/sh\n",
    "NAME=\"ecut\"\n",
    "for CUTOFF in AA BB CC DD EE FF #The ecut values are defined in this list\n",
    "do\n",
    "cat > ${NAME}_${CUTOFF}.in << EOF\n",
    " &control\n",
    "    calculation = 'scf',\n",
    "    prefix = 'silicon'\n",
    "    outdir = './tmp/'\n",
    "    pseudo_dir = './'\n",
    " /\n",
    " &system\n",
    "    ibrav =  2,\n",
    "    celldm(1) = 10.0,\n",
    "    nat =  2,\n",
    "    ntyp = 1,\n",
    "    ecutwfc = $CUTOFF\n",
    " /\n",
    " &electrons\n",
    "    mixing_beta = 0.6\n",
    " /\n",
    "ATOMIC_SPECIES\n",
    " Si 28.086  Si.pz-vbc.UPF\n",
    "ATOMIC_POSITIONS (alat)\n",
    " Si 0.0 0.0 0.0\n",
    " Si 0.25 0.25 0.25\n",
    "K_POINTS (automatic)\n",
    "  6 6 6 1 1 1\n",
    "EOF\n",
    "\n",
    "pw.x < ${NAME}_${CUTOFF}.in > ${NAME}_${CUTOFF}.out\n",
    "echo ${NAME}_${CUTOFF}\n",
    "grep ! ${NAME}_${CUTOFF}.out\n",
    "\n",
    "done"
   ]
  },
  {
   "cell_type": "code",
   "execution_count": null,
   "id": "9ceeb673",
   "metadata": {},
   "outputs": [],
   "source": [
    "!chmod +x ecut-convergence.sh\n",
    "!sh ecut-convergence.sh"
   ]
  },
  {
   "cell_type": "code",
   "execution_count": null,
   "id": "b2a93989",
   "metadata": {},
   "outputs": [],
   "source": [
    "x1 = [] #Include the ecut values separated by commas\n",
    "y1 = [] #Include the total energy values separated by commas\n",
    "plt.xlabel('Cutoff energy (Ry)')\n",
    "plt.ylabel('Total energy (Ry)')\n",
    "plt.plot(x1, y1)\n",
    "plt.show()"
   ]
  },
  {
   "cell_type": "markdown",
   "id": "e77834b9",
   "metadata": {},
   "source": [
    "In order to be certain of the number of plane wave requiered for an accurate simulation, we are looking for energy differences lower than 5 meV/atom."
   ]
  },
  {
   "cell_type": "code",
   "execution_count": null,
   "id": "ae784336",
   "metadata": {},
   "outputs": [],
   "source": [
    "new_y1 = [(i+ENERGY)*(13.6056980659*1000/NAT) for i in y1] #Sum the lowest energy value and the number of atoms per cell \n",
    "plt.xlabel('Cutoff energy (Ry)')\n",
    "plt.ylabel('Total energy difference (meV/atom)')\n",
    "plt.ylim(0, LIM) #The y-axis limits can be changed here\n",
    "plt.plot(x1, new_y1)\n",
    "plt.grid()\n",
    "plt.show()"
   ]
  },
  {
   "cell_type": "markdown",
   "id": "7dd06b28",
   "metadata": {},
   "source": [
    "#### Question 1\n",
    "What is the lowest value for the cutoff energy that ensures an energy difference lower than 5 meV/atom?"
   ]
  },
  {
   "cell_type": "markdown",
   "id": "576b859b",
   "metadata": {},
   "source": [
    "### Convergence with $k$ points for silicon bulk\n",
    "\n",
    "We can run similar convergence test against other parameter, and choose the best value of that particular parameter. Here we will try to calculate number of k-points in the Monkhorst-Pack mesh."
   ]
  },
  {
   "cell_type": "code",
   "execution_count": null,
   "id": "a0de2a09",
   "metadata": {},
   "outputs": [],
   "source": [
    "%%writefile kpts-convergence.sh\n",
    "\n",
    "#!/bin/sh\n",
    "NAME=\"kpts\"\n",
    "for K in AA BB CC DD #The k points values are defined in this list\n",
    "do\n",
    "cat > ${NAME}_${K}.in << EOF\n",
    " &control\n",
    "    calculation = 'scf',\n",
    "    prefix = 'silicon'\n",
    "    outdir = './tmp/'\n",
    "    pseudo_dir = './'\n",
    " /\n",
    " &system\n",
    "    ibrav =  2,\n",
    "    celldm(1) = 10.0,\n",
    "    nat =  2,\n",
    "    ntyp = 1,\n",
    "    ecutwfc = EE !#Set the selected ecut value\n",
    " /\n",
    " &electrons\n",
    "    mixing_beta = 0.6\n",
    " /\n",
    "ATOMIC_SPECIES\n",
    " Si 28.086  Si.pz-vbc.UPF\n",
    "ATOMIC_POSITIONS (alat)\n",
    " Si 0.0 0.0 0.0\n",
    " Si 0.25 0.25 0.25\n",
    "K_POINTS (automatic)\n",
    "  $K $K $K 1 1 1\n",
    "EOF\n",
    "\n",
    "pw.x < ${NAME}_${K}.in > ${NAME}_${K}.out\n",
    "echo ${NAME}_${K}\n",
    "grep ! ${NAME}_${K}.out\n",
    "\n",
    "done"
   ]
  },
  {
   "cell_type": "code",
   "execution_count": null,
   "id": "bfb48b28",
   "metadata": {},
   "outputs": [],
   "source": [
    "!chmod +x kpts-convergence.sh\n",
    "!sh kpts-convergence.sh"
   ]
  },
  {
   "cell_type": "code",
   "execution_count": null,
   "id": "0ed3687a",
   "metadata": {},
   "outputs": [],
   "source": [
    "x2 = [] #Include the ecut values separated by commas\n",
    "y2 = [] #Include the total energy values separated by commas\n",
    "plt.xlabel('K points grid')\n",
    "plt.ylabel('Total energy (Ry)')\n",
    "plt.plot(x2, y2)\n",
    "plt.show()"
   ]
  },
  {
   "cell_type": "code",
   "execution_count": null,
   "id": "3f73e04a",
   "metadata": {
    "scrolled": true
   },
   "outputs": [],
   "source": [
    "new_y2 = [(i+ENERGY)*(13.6056980659*1000/NAT) for i in y2] #Sum the lowest energy value and the number of atoms per cell \n",
    "plt.xlabel('K points grid')\n",
    "plt.ylabel('Total energy difference (meV/atom)')\n",
    "plt.ylim(0, LIM) #The y-axis limits can be changed here\n",
    "plt.plot(x2, new_y2)\n",
    "plt.grid()\n",
    "plt.show()"
   ]
  },
  {
   "cell_type": "markdown",
   "id": "ba6f5aa8",
   "metadata": {},
   "source": [
    "#### Question 2\n",
    "What is the lowest $k$ point mesh that ensures an energy difference lower than 5 meV/atom?"
   ]
  },
  {
   "cell_type": "markdown",
   "id": "ebaabb27",
   "metadata": {},
   "source": [
    "### Convergence with smearing for aluminum bulk\n",
    "\n",
    "$smearing$ is a mathematical trick implemented Quantum ESPRESSO to help in convergence for metallic systems."
   ]
  },
  {
   "cell_type": "code",
   "execution_count": null,
   "id": "25dc3ca0",
   "metadata": {},
   "outputs": [],
   "source": [
    "#Let's download the pseudopotential\n",
    "!wget https://pseudopotentials.quantum-espresso.org/upf_files/Al.pbe-n-rrkjus_psl.1.0.0.UPF"
   ]
  },
  {
   "cell_type": "code",
   "execution_count": null,
   "id": "19d3fd98",
   "metadata": {},
   "outputs": [],
   "source": [
    "%%writefile smearing-convergence.sh\n",
    "\n",
    "#!/bin/sh\n",
    "NAME=\"smearing\"\n",
    "for DEGAUSS in AA BB CC DD EE #The degauss values are defined in this list\n",
    "do\n",
    "cat > ${NAME}_${DEGAUSS}.in << EOF\n",
    "&CONTROL \n",
    "  calculation= 'scf', \n",
    "  restart_mode= 'from_scratch', \n",
    "  prefix= 'al', \n",
    "  outdir= './tmp/', \n",
    "  pseudo_dir= './' \n",
    "/ \n",
    "&SYSTEM \n",
    "  ibrav= 2, \n",
    "  celldm(1) = 7.63075, \n",
    "  nat= 1, \n",
    "  ntyp= 1, \n",
    "  ecutwfc= 50, \n",
    "  ecutrho= 500, \n",
    "  occupations= 'smearing',\n",
    "  smearing= 'gaussian', !#The type of broadening can be changed here\n",
    "  degauss= $DEGAUSS\n",
    "/ \n",
    "&ELECTRONS\n",
    "  conv_thr= 1e-8\n",
    "/\n",
    "ATOMIC_SPECIES\n",
    "  Al 26.981539 Al.pbe-n-rrkjus_psl.1.0.0.UPF\n",
    "ATOMIC_POSITIONS (alat)\n",
    "  Al 0.00 0.00 0.00\n",
    "K_POINTS (automatic)\n",
    "  14 14 14 0 0 0\n",
    "EOF\n",
    "\n",
    "pw.x < ${NAME}_${DEGAUSS}.in > ${NAME}_${DEGAUSS}.out\n",
    "echo ${NAME}_${DEGAUSS}\n",
    "grep ! ${NAME}_${DEGAUSS}.out\n",
    "\n",
    "done"
   ]
  },
  {
   "cell_type": "code",
   "execution_count": null,
   "id": "c35994c2",
   "metadata": {},
   "outputs": [],
   "source": [
    "!chmod +x smearing-convergence.sh\n",
    "!sh smearing-convergence.sh"
   ]
  },
  {
   "cell_type": "code",
   "execution_count": null,
   "id": "5b4a76cd",
   "metadata": {},
   "outputs": [],
   "source": [
    "x3 = [] #Include the degauss values separated by commas\n",
    "gauss = [] #Include the total energy values separated by commas\n",
    "plt.xlabel('Degauss (Ry)')\n",
    "plt.ylabel('Total energy (Ry)')\n",
    "plt.plot(x3, gauss)\n",
    "plt.show()"
   ]
  },
  {
   "cell_type": "markdown",
   "id": "f89a665b",
   "metadata": {},
   "source": [
    "#### Question 3\n",
    "Change the type of broadening from Gaussian ($gaussian$), to Methfessel-Paxton ($m-p$), Marzari-Vanderbilt ($m-v$), and Fermi-Dirac ($f-d$), for the same smearing values defined above and plot the calculated energies in the following instruction:"
   ]
  },
  {
   "cell_type": "code",
   "execution_count": null,
   "id": "9e4dcaff",
   "metadata": {},
   "outputs": [],
   "source": [
    "x3 = [] #Include the degauss values separated by commas\n",
    "gauss = [] #Include the total energy values separated by commas\n",
    "mp = []\n",
    "mv = []\n",
    "fd = []\n",
    "plt.xlabel('Degauss (Ry)')\n",
    "plt.ylabel('Total energy (Ry)')\n",
    "plt.plot(x3, gauss, label='Gauss')\n",
    "plt.plot(x3, mp, label='Methfessel-Paxton')\n",
    "plt.plot(x3, mv, label='Marzari-Vanderbilt')\n",
    "plt.plot(x3, fd, label='Fermi-Dirac')\n",
    "plt.legend()\n",
    "plt.show()"
   ]
  },
  {
   "cell_type": "markdown",
   "id": "011a9dc8",
   "metadata": {},
   "source": [
    "#### Question 4\n",
    "Which broadening(s) is(are) less depending on the degauss value?"
   ]
  },
  {
   "cell_type": "markdown",
   "id": "b22c8310",
   "metadata": {},
   "source": [
    "#### Question 5\n",
    "With the selected broadening(s), for the same smearing values defined above, plot the calculated energies by varying the k points grid with these values: 10, 12, 14, 16"
   ]
  },
  {
   "cell_type": "code",
   "execution_count": null,
   "id": "bae21576",
   "metadata": {},
   "outputs": [],
   "source": [
    "x3 = [] #Include the degauss values separated by commas\n",
    "B1_10 = [] #Include the total energy values separated by commas\n",
    "B1_12 = []\n",
    "B1_14 = []\n",
    "B1_16 = []\n",
    "plt.plot(x3, B1_10, label='B1_10') #In label write the selected broadening\n",
    "plt.plot(x3, B1_12, label='B1_12')\n",
    "plt.plot(x3, B1_14, label='B1_14')\n",
    "plt.plot(x3, B1_16, label='B1_16')\n",
    "plt.xlabel('Degauss (Ry)')\n",
    "plt.ylabel('Total energy (Ry)')\n",
    "plt.legend()\n",
    "plt.show()"
   ]
  },
  {
   "cell_type": "code",
   "execution_count": null,
   "id": "a879c241",
   "metadata": {},
   "outputs": [],
   "source": [
    "x3 = [0.02, 0.04, 0.06, 0.08, 0.10] #Include the degauss values separated by commas\n",
    "B2_10 = [] #Include the total energy values separated by commas\n",
    "B2_12 = []\n",
    "B2_14 = []\n",
    "B2_16 = []\n",
    "plt.plot(x3, B2_10, label='B2_10') #In label write the selected broadening\n",
    "plt.plot(x3, B2_12, label='B2_12')\n",
    "plt.plot(x3, B2_14, label='B2_14')\n",
    "plt.plot(x3, B2_16, label='B2_16')\n",
    "plt.xlabel('Degauss (Ry)')\n",
    "plt.ylabel('Total energy (Ry)')\n",
    "plt.legend()\n",
    "plt.show()"
   ]
  },
  {
   "cell_type": "markdown",
   "id": "669a3be6",
   "metadata": {},
   "source": [
    "#### Question 6\n",
    "Between the selected broadening(s), which one converges the best?\n",
    "\n",
    "#### Question 7\n",
    "What is the best $k$ points and smearing arragement for aluminum?"
   ]
  }
 ],
 "metadata": {
  "kernelspec": {
   "display_name": "Python 3 (ipykernel)",
   "language": "python",
   "name": "python3"
  },
  "language_info": {
   "codemirror_mode": {
    "name": "ipython",
    "version": 3
   },
   "file_extension": ".py",
   "mimetype": "text/x-python",
   "name": "python",
   "nbconvert_exporter": "python",
   "pygments_lexer": "ipython3",
   "version": "3.9.7"
  }
 },
 "nbformat": 4,
 "nbformat_minor": 5
}
